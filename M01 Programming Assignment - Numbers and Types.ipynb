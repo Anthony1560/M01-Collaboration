{
 "cells": [
  {
   "cell_type": "code",
   "execution_count": 14,
   "id": "215e81cb",
   "metadata": {},
   "outputs": [
    {
     "data": {
      "text/plain": [
       "3600"
      ]
     },
     "execution_count": 14,
     "metadata": {},
     "output_type": "execute_result"
    }
   ],
   "source": [
    ">>> 60 * 60 "
   ]
  },
  {
   "cell_type": "code",
   "execution_count": 15,
   "id": "cbcb79aa",
   "metadata": {},
   "outputs": [],
   "source": [
    ">>> seconds_per_hour = 3600"
   ]
  },
  {
   "cell_type": "code",
   "execution_count": 16,
   "id": "914605a6",
   "metadata": {},
   "outputs": [
    {
     "data": {
      "text/plain": [
       "86400"
      ]
     },
     "execution_count": 16,
     "metadata": {},
     "output_type": "execute_result"
    }
   ],
   "source": [
    ">>> seconds_per_hour * 24"
   ]
  },
  {
   "cell_type": "code",
   "execution_count": 18,
   "id": "83015e96",
   "metadata": {},
   "outputs": [],
   "source": [
    ">>> seconds_per_day = 86400"
   ]
  },
  {
   "cell_type": "code",
   "execution_count": 19,
   "id": "480a689b",
   "metadata": {},
   "outputs": [
    {
     "data": {
      "text/plain": [
       "24.0"
      ]
     },
     "execution_count": 19,
     "metadata": {},
     "output_type": "execute_result"
    }
   ],
   "source": [
    ">>> seconds_per_day / seconds_per_hour"
   ]
  },
  {
   "cell_type": "code",
   "execution_count": 20,
   "id": "497ae44d",
   "metadata": {},
   "outputs": [
    {
     "data": {
      "text/plain": [
       "24"
      ]
     },
     "execution_count": 20,
     "metadata": {},
     "output_type": "execute_result"
    }
   ],
   "source": [
    "seconds_per_day // seconds_per_hour"
   ]
  },
  {
   "cell_type": "code",
   "execution_count": null,
   "id": "e44638c1",
   "metadata": {},
   "outputs": [],
   "source": []
  }
 ],
 "metadata": {
  "kernelspec": {
   "display_name": "Python 3 (ipykernel)",
   "language": "python",
   "name": "python3"
  },
  "language_info": {
   "codemirror_mode": {
    "name": "ipython",
    "version": 3
   },
   "file_extension": ".py",
   "mimetype": "text/x-python",
   "name": "python",
   "nbconvert_exporter": "python",
   "pygments_lexer": "ipython3",
   "version": "3.11.5"
  }
 },
 "nbformat": 4,
 "nbformat_minor": 5
}
